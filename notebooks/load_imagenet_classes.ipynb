{
 "cells": [
  {
   "attachments": {},
   "cell_type": "markdown",
   "metadata": {},
   "source": [
    "Downloads the imagenet classes and checks the top classes"
   ]
  },
  {
   "cell_type": "code",
   "execution_count": 2,
   "metadata": {
    "ExecuteTime": {
     "end_time": "2023-05-17T09:29:36.032370Z",
     "start_time": "2023-05-17T09:29:36.030552Z"
    }
   },
   "outputs": [],
   "source": [
    "import numpy as np\n",
    "import pathlib\n",
    "\n",
    "import ssl\n",
    "ssl._create_default_https_context = ssl._create_unverified_context # try and avoid SSL error"
   ]
  },
  {
   "cell_type": "code",
   "execution_count": 3,
   "metadata": {
    "ExecuteTime": {
     "end_time": "2023-05-17T09:30:04.256557Z",
     "start_time": "2023-05-17T09:29:36.030930Z"
    }
   },
   "outputs": [],
   "source": [
    "from sisap2023.utils.mirflickr  import load_encodings\n",
    "\n",
    "allData = load_encodings(pathlib.Path(\"/Volumes/Data/mf_resnet50/\")) # load resnet 50 encodings\n",
    "\n",
    "smData = load_encodings(pathlib.Path(\"/Volumes/Data/mf_alexnet_softmax\"))"
   ]
  },
  {
   "cell_type": "code",
   "execution_count": 4,
   "metadata": {
    "ExecuteTime": {
     "end_time": "2023-05-17T09:31:16.368313Z",
     "start_time": "2023-05-17T09:31:07.557915Z"
    }
   },
   "outputs": [],
   "source": [
    "\n",
    "from sisap2023.utils.count_cats import findHighCatValues\n",
    "\n",
    "top_indices, top_cats = findHighCatValues(smData) # numpy - the most owly owls etc.\n",
    "top_cats = top_cats.tolist()  # a python list"
   ]
  },
  {
   "cell_type": "code",
   "execution_count": 6,
   "metadata": {
    "ExecuteTime": {
     "end_time": "2023-05-17T09:31:16.723667Z",
     "start_time": "2023-05-17T09:31:16.720233Z"
    }
   },
   "outputs": [
    {
     "name": "stdout",
     "output_type": "stream",
     "text": [
      "File imagenet_classes.txt already exists\n"
     ]
    }
   ],
   "source": [
    "# Download ImageNet labels\n",
    "\n",
    "! if [ -f \"imagenet_classes.txt\" ]; then echo \"File imagenet_classes.txt already exists\"; else wget https://raw.githubusercontent.com/pytorch/hub/master/imagenet_classes.txt 2> /dev/null; fi\n"
   ]
  },
  {
   "cell_type": "code",
   "execution_count": 7,
   "metadata": {
    "ExecuteTime": {
     "end_time": "2023-05-17T09:31:16.723976Z",
     "start_time": "2023-05-17T09:31:16.722721Z"
    }
   },
   "outputs": [],
   "source": [
    "# Read the categories\n",
    "with open(\"imagenet_classes.txt\", \"r\") as f:\n",
    "    categories = [s.strip() for s in f.readlines()]"
   ]
  },
  {
   "cell_type": "code",
   "execution_count": 8,
   "metadata": {
    "ExecuteTime": {
     "end_time": "2023-05-17T09:31:16.724258Z",
     "start_time": "2023-05-17T09:31:16.723114Z"
    }
   },
   "outputs": [
    {
     "name": "stdout",
     "output_type": "stream",
     "text": [
      "676078 1.0 88 macaw\n",
      "27961 1.0 134 crane\n",
      "726967 1.0 388 giant panda\n",
      "694515 1.0 84 peacock\n",
      "274217 1.0 565 freight car\n",
      "981885 1.0 145 king penguin\n",
      "255348 1.0 84 peacock\n",
      "583538 1.0 958 hay\n",
      "243285 1.0 84 peacock\n",
      "46730 1.0 84 peacock\n",
      "110844 1.0 97 drake\n",
      "440457 1.0 958 hay\n",
      "752195 1.0 84 peacock\n",
      "587997 1.0 84 peacock\n",
      "748778 1.0 84 peacock\n",
      "178384 1.0 387 lesser panda\n",
      "81246 1.0 134 crane\n",
      "745319 1.0 84 peacock\n",
      "71826 1.0 84 peacock\n",
      "545163 1.0 88 macaw\n",
      "659380 1.0 576 gondola\n",
      "851476 1.0 97 drake\n",
      "839037 1.0 84 peacock\n",
      "992142 1.0 145 king penguin\n",
      "829162 1.0 565 freight car\n",
      "255248 1.0 565 freight car\n",
      "97035 1.0 97 drake\n",
      "820188 1.0 84 peacock\n",
      "679724 1.0 387 lesser panda\n",
      "698238 1.0 388 giant panda\n",
      "714173 1.0 42 agama\n",
      "117053 1.0 84 peacock\n",
      "917798 1.0 97 drake\n",
      "984174 1.0 145 king penguin\n",
      "897381 1.0 87 African grey\n",
      "881812 1.0 130 flamingo\n",
      "186776 1.0 387 lesser panda\n",
      "991537 1.0 145 king penguin\n",
      "339677 1.0 565 freight car\n",
      "452222 1.0 291 lion\n"
     ]
    }
   ],
   "source": [
    "for i in range(40):\n",
    "    print(top_indices[i],smData[top_indices[i],top_cats[i]],top_cats[i],categories[top_cats[i]] )"
   ]
  }
 ],
 "metadata": {
  "kernelspec": {
   "display_name": "Python 3",
   "language": "python",
   "name": "python3"
  },
  "language_info": {
   "codemirror_mode": {
    "name": "ipython",
    "version": 3
   },
   "file_extension": ".py",
   "mimetype": "text/x-python",
   "name": "python",
   "nbconvert_exporter": "python",
   "pygments_lexer": "ipython3",
   "version": "3.11.1"
  },
  "orig_nbformat": 4
 },
 "nbformat": 4,
 "nbformat_minor": 2
}
