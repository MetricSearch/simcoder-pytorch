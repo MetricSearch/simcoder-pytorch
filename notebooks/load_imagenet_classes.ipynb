{
 "cells": [
  {
   "attachments": {},
   "cell_type": "markdown",
   "metadata": {},
   "source": [
    "# Download the imagenet classes and checks the top classes\n",
    "This here to show where we got the imagenet class labels from."
   ]
  },
  {
   "cell_type": "code",
   "execution_count": 7,
   "metadata": {
    "ExecuteTime": {
     "end_time": "2023-05-17T09:29:36.032370Z",
     "start_time": "2023-05-17T09:29:36.030552Z"
    }
   },
   "outputs": [],
   "source": [
    "import ssl\n",
    "ssl._create_default_https_context = ssl._create_unverified_context  # avoid SSL error"
   ]
  },
  {
   "cell_type": "code",
   "execution_count": 8,
   "metadata": {
    "ExecuteTime": {
     "end_time": "2023-05-17T09:30:04.256557Z",
     "start_time": "2023-05-17T09:29:36.030930Z"
    }
   },
   "outputs": [],
   "source": [
    "from pathlib import Path\n",
    "from sisap2023.utils.mirflickr import load_encodings, set_mf_images_path\n",
    "\n",
    "data_root = Path(\"/Volumes/Data\")\n",
    "\n",
    "# load the resnet19 softmax activations\n",
    "sm_data = load_encodings(data_root / \"mf_resnet19_softmax\")"
   ]
  },
  {
   "cell_type": "code",
   "execution_count": 9,
   "metadata": {
    "ExecuteTime": {
     "end_time": "2023-05-17T09:31:16.368313Z",
     "start_time": "2023-05-17T09:31:07.557915Z"
    }
   },
   "outputs": [],
   "source": [
    "\n",
    "from sisap2023.utils.count_cats import findHighCatValues\n",
    "\n",
    "top_indices, top_cats = findHighCatValues(sm_data) # numpy - the most owly owls etc.\n",
    "top_cats = top_cats.tolist()  # a python list"
   ]
  },
  {
   "cell_type": "code",
   "execution_count": 10,
   "metadata": {
    "ExecuteTime": {
     "end_time": "2023-05-17T09:31:16.723667Z",
     "start_time": "2023-05-17T09:31:16.720233Z"
    }
   },
   "outputs": [
    {
     "name": "stdout",
     "output_type": "stream",
     "text": [
      "File imagenet_classes.txt already exists\n"
     ]
    }
   ],
   "source": [
    "# Download ImageNet labels\n",
    "\n",
    "! if [ -f \"imagenet_classes.txt\" ]; then echo \"File imagenet_classes.txt already exists\"; else wget https://raw.githubusercontent.com/pytorch/hub/master/imagenet_classes.txt 2> /dev/null; fi\n"
   ]
  },
  {
   "cell_type": "code",
   "execution_count": 11,
   "metadata": {
    "ExecuteTime": {
     "end_time": "2023-05-17T09:31:16.723976Z",
     "start_time": "2023-05-17T09:31:16.722721Z"
    }
   },
   "outputs": [],
   "source": [
    "# Read the categories\n",
    "with open(\"imagenet_classes.txt\", \"r\") as f:\n",
    "    categories = [s.strip() for s in f.readlines()]"
   ]
  },
  {
   "cell_type": "code",
   "execution_count": 12,
   "metadata": {
    "ExecuteTime": {
     "end_time": "2023-05-17T09:31:16.724258Z",
     "start_time": "2023-05-17T09:31:16.723114Z"
    }
   },
   "outputs": [
    {
     "name": "stdout",
     "output_type": "stream",
     "text": [
      "733327 1.0 525 dam\n",
      "715749 1.0 594 harp\n",
      "690710 1.0 594 harp\n",
      "953477 1.0 84 peacock\n",
      "26408 1.0 843 swing\n",
      "408691 1.0 607 jack-o'-lantern\n",
      "401097 1.0 607 jack-o'-lantern\n",
      "791563 1.0 29 axolotl\n",
      "135319 1.0 594 harp\n",
      "162775 1.0 327 starfish\n",
      "945628 1.0 954 banana\n",
      "158378 1.0 84 peacock\n",
      "972878 1.0 107 jellyfish\n",
      "562541 1.0 971 bubble\n",
      "630320 1.0 576 gondola\n",
      "915622 1.0 611 jigsaw puzzle\n",
      "829162 1.0 565 freight car\n",
      "734999 1.0 84 peacock\n",
      "987157 1.0 29 axolotl\n",
      "710658 1.0 984 rapeseed\n",
      "977557 1.0 565 freight car\n",
      "117053 1.0 84 peacock\n",
      "349561 1.0 736 pool table\n",
      "755674 1.0 401 accordion\n",
      "693731 1.0 388 giant panda\n",
      "879159 1.0 580 greenhouse\n",
      "236464 1.0 736 pool table\n",
      "812964 1.0 666 mortar\n",
      "706857 1.0 84 peacock\n",
      "721148 1.0 953 pineapple\n",
      "839037 1.0 84 peacock\n",
      "16781 1.0 958 hay\n",
      "778937 1.0 616 knot\n",
      "660721 1.0 84 peacock\n",
      "398893 1.0 607 jack-o'-lantern\n",
      "992500 1.0 84 peacock\n",
      "814053 1.0 84 peacock\n",
      "523833 1.0 84 peacock\n",
      "791384 1.0 687 organ\n",
      "188410 1.0 84 peacock\n"
     ]
    }
   ],
   "source": [
    "for i in range(40):\n",
    "    print(top_indices[i],sm_data[top_indices[i],top_cats[i]],top_cats[i],categories[top_cats[i]] )"
   ]
  }
 ],
 "metadata": {
  "kernelspec": {
   "display_name": "Python 3",
   "language": "python",
   "name": "python3"
  },
  "language_info": {
   "codemirror_mode": {
    "name": "ipython",
    "version": 3
   },
   "file_extension": ".py",
   "mimetype": "text/x-python",
   "name": "python",
   "nbconvert_exporter": "python",
   "pygments_lexer": "ipython3",
   "version": "3.11.2"
  },
  "orig_nbformat": 4
 },
 "nbformat": 4,
 "nbformat_minor": 2
}
