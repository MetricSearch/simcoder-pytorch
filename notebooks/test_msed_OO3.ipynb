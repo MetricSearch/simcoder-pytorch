{
 "cells": [
  {
   "attachments": {},
   "cell_type": "markdown",
   "metadata": {},
   "source": [
    "This is test code to check that the OO version of msed works correctly.\n",
    "This code mirrors matlab code at foot of notebook."
   ]
  },
  {
   "cell_type": "code",
   "execution_count": 12,
   "metadata": {},
   "outputs": [
    {
     "name": "stdout",
     "output_type": "stream",
     "text": [
      "[[0.00512546]\n",
      " [0.0070895 ]]\n"
     ]
    },
    {
     "ename": "ValueError",
     "evalue": "Axes must be different.",
     "output_type": "error",
     "traceback": [
      "\u001b[0;31m---------------------------------------------------------------------------\u001b[0m",
      "\u001b[0;31mValueError\u001b[0m                                Traceback (most recent call last)",
      "Cell \u001b[0;32mIn[12], line 18\u001b[0m\n\u001b[1;32m     13\u001b[0m \u001b[39mprint\u001b[39m(dists)\n\u001b[1;32m     16\u001b[0m dists \u001b[39m=\u001b[39m dists\u001b[39m.\u001b[39mflatten()   \u001b[39m# <<< these are all matrices of matrices shouldn't be.\u001b[39;00m\n\u001b[0;32m---> 18\u001b[0m dists \u001b[39m=\u001b[39m np\u001b[39m.\u001b[39;49mrot90(dists)\n\u001b[1;32m     20\u001b[0m indices \u001b[39m=\u001b[39m np\u001b[39m.\u001b[39margsort(dists)     \u001b[39m# lowest is first\u001b[39;00m\n\u001b[1;32m     22\u001b[0m \u001b[39mprint\u001b[39m(dists)\n",
      "File \u001b[0;32m<__array_function__ internals>:180\u001b[0m, in \u001b[0;36mrot90\u001b[0;34m(*args, **kwargs)\u001b[0m\n",
      "File \u001b[0;32m~/repos/simcoder-pytorch/venv/lib/python3.11/site-packages/numpy/lib/function_base.py:223\u001b[0m, in \u001b[0;36mrot90\u001b[0;34m(m, k, axes)\u001b[0m\n\u001b[1;32m    220\u001b[0m m \u001b[39m=\u001b[39m asanyarray(m)\n\u001b[1;32m    222\u001b[0m \u001b[39mif\u001b[39;00m axes[\u001b[39m0\u001b[39m] \u001b[39m==\u001b[39m axes[\u001b[39m1\u001b[39m] \u001b[39mor\u001b[39;00m absolute(axes[\u001b[39m0\u001b[39m] \u001b[39m-\u001b[39m axes[\u001b[39m1\u001b[39m]) \u001b[39m==\u001b[39m m\u001b[39m.\u001b[39mndim:\n\u001b[0;32m--> 223\u001b[0m     \u001b[39mraise\u001b[39;00m \u001b[39mValueError\u001b[39;00m(\u001b[39m\"\u001b[39m\u001b[39mAxes must be different.\u001b[39m\u001b[39m\"\u001b[39m)\n\u001b[1;32m    225\u001b[0m \u001b[39mif\u001b[39;00m (axes[\u001b[39m0\u001b[39m] \u001b[39m>\u001b[39m\u001b[39m=\u001b[39m m\u001b[39m.\u001b[39mndim \u001b[39mor\u001b[39;00m axes[\u001b[39m0\u001b[39m] \u001b[39m<\u001b[39m \u001b[39m-\u001b[39mm\u001b[39m.\u001b[39mndim\n\u001b[1;32m    226\u001b[0m     \u001b[39mor\u001b[39;00m axes[\u001b[39m1\u001b[39m] \u001b[39m>\u001b[39m\u001b[39m=\u001b[39m m\u001b[39m.\u001b[39mndim \u001b[39mor\u001b[39;00m axes[\u001b[39m1\u001b[39m] \u001b[39m<\u001b[39m \u001b[39m-\u001b[39mm\u001b[39m.\u001b[39mndim):\n\u001b[1;32m    227\u001b[0m     \u001b[39mraise\u001b[39;00m \u001b[39mValueError\u001b[39;00m(\u001b[39m\"\u001b[39m\u001b[39mAxes=\u001b[39m\u001b[39m{}\u001b[39;00m\u001b[39m out of range for array of ndim=\u001b[39m\u001b[39m{}\u001b[39;00m\u001b[39m.\u001b[39m\u001b[39m\"\u001b[39m\n\u001b[1;32m    228\u001b[0m         \u001b[39m.\u001b[39mformat(axes, m\u001b[39m.\u001b[39mndim))\n",
      "\u001b[0;31mValueError\u001b[0m: Axes must be different."
     ]
    }
   ],
   "source": [
    "import numpy as np\n",
    "from simcoder.msedOO import msed\n",
    "\n",
    "base_matrix = np.array([[0.2, 0.6, 0.2],[0.1, 0.7, 0.2],[0.2, 0.6, 0.3]])\n",
    "\n",
    "data = np.array([[0.2, 0.5, 0.3],[0.2, 0.7, 0.1]])\n",
    "\n",
    "\n",
    "base = msed(base_matrix)  # form the base simplex\n",
    "\n",
    "dists = base.msed(data)\n",
    "\n",
    "print(dists)\n",
    "\n",
    "\n",
    "dists = dists.flatten()   # <<< these are all matrices of matrices shouldn't be.\n",
    "\n",
    "indices = np.argsort(dists)     # lowest is first\n",
    "\n",
    "print(dists)\n",
    "\n",
    "print(indices)\n",
    "\n",
    "\n"
   ]
  },
  {
   "attachments": {},
   "cell_type": "markdown",
   "metadata": {},
   "source": [
    "% Matlab code:\n",
    "\n",
    "base_matrix = [ 0.2 0.6 0.2,\n",
    "                0.1 0.7 0.2,\n",
    "                0.2 0.6 0.3 ]\n",
    "\n",
    "data = [ 0.2 0.5 0.3,\n",
    "         0.2 0.7 0.1 ]\n",
    "\n",
    "\n",
    "msedBase = msed_base(base_matrix);\n",
    "dists = msedBase.msed(data);\n",
    "dists\n",
    "[~,ord] = sort(dists);\n",
    "ord\n"
   ]
  }
 ],
 "metadata": {
  "kernelspec": {
   "display_name": "Python 3",
   "language": "python",
   "name": "python3"
  },
  "language_info": {
   "codemirror_mode": {
    "name": "ipython",
    "version": 3
   },
   "file_extension": ".py",
   "mimetype": "text/x-python",
   "name": "python",
   "nbconvert_exporter": "python",
   "pygments_lexer": "ipython3",
   "version": "3.11.1"
  },
  "orig_nbformat": 4
 },
 "nbformat": 4,
 "nbformat_minor": 2
}
