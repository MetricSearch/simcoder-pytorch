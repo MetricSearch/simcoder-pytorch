{
 "cells": [
  {
   "attachments": {},
   "cell_type": "markdown",
   "metadata": {},
   "source": [
    "This is test code to check that the OO version of msed works correctly.\n",
    "This code mirrors matlab code at foot of notebook."
   ]
  },
  {
   "cell_type": "code",
   "execution_count": 16,
   "metadata": {},
   "outputs": [
    {
     "name": "stdout",
     "output_type": "stream",
     "text": [
      "[[0.00569509]\n",
      " [0.00835954]]\n",
      "[[0.00569509]\n",
      " [0.00835954]]\n",
      "[[0]\n",
      " [1]]\n"
     ]
    }
   ],
   "source": [
    "import numpy as np\n",
    "from simcoder.msedOO import msed\n",
    "\n",
    "base_matrix = np.array([[0.2, 0.6, 0.2],[0.1, 0.7, 0.2],[0.2, 0.5, 0.3]])\n",
    "\n",
    "data = np.array([[0.2, 0.5, 0.3],[0.2, 0.7, 0.1]])\n",
    "\n",
    "\n",
    "base = msed(base_matrix)  # form the base simplex\n",
    "\n",
    "dists = base.msed(data)\n",
    "\n",
    "print(dists)\n",
    "\n",
    "indices = np.argsort(dists,axis=0)     # lowest is first\n",
    "\n",
    "print(dists)\n",
    "\n",
    "print(indices)\n",
    "\n",
    "\n"
   ]
  },
  {
   "attachments": {},
   "cell_type": "markdown",
   "metadata": {},
   "source": [
    "% Matlab code:\n",
    "\n",
    "base_matrix = [ 0.2 0.6 0.2,\n",
    "                0.1 0.7 0.2,\n",
    "                0.2 0.5 0.3 ]\n",
    "\n",
    "data = [ 0.2 0.5 0.3,\n",
    "         0.2 0.7 0.1 ]\n",
    "\n",
    "\n",
    "msedBase = msed_base(base_matrix);\n",
    "dists = msedBase.msed(data);\n",
    "dists\n",
    "[~,ord] = sort(dists);\n",
    "ord\n"
   ]
  }
 ],
 "metadata": {
  "kernelspec": {
   "display_name": "Python 3",
   "language": "python",
   "name": "python3"
  },
  "language_info": {
   "codemirror_mode": {
    "name": "ipython",
    "version": 3
   },
   "file_extension": ".py",
   "mimetype": "text/x-python",
   "name": "python",
   "nbconvert_exporter": "python",
   "pygments_lexer": "ipython3",
   "version": "3.11.1"
  },
  "orig_nbformat": 4
 },
 "nbformat": 4,
 "nbformat_minor": 2
}
