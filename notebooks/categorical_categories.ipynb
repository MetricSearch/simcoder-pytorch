{
 "cells": [
  {
   "attachments": {},
   "cell_type": "markdown",
   "metadata": {},
   "source": [
    "Find the most highly categorised data in the dataset"
   ]
  },
  {
   "cell_type": "code",
   "execution_count": 1,
   "metadata": {
    "ExecuteTime": {
     "end_time": "2023-05-17T14:41:17.240771Z",
     "start_time": "2023-05-17T14:41:15.004044Z"
    }
   },
   "outputs": [],
   "source": [
    "import sys\n",
    "!{sys.executable} -m pip install torch torchvision scipy matplotlib | grep -v 'already satisfied'"
   ]
  },
  {
   "cell_type": "code",
   "execution_count": 2,
   "metadata": {
    "ExecuteTime": {
     "end_time": "2023-05-17T14:41:17.244647Z",
     "start_time": "2023-05-17T14:41:17.241419Z"
    }
   },
   "outputs": [],
   "source": [
    "from scipy.io import loadmat\n",
    "import numpy as np\n",
    "import pathlib\n",
    "\n",
    "# nasty import hack - this is a code smell, work out how to remove it\n",
    "import sys\n",
    "sys.path.append('../')"
   ]
  },
  {
   "cell_type": "code",
   "execution_count": 3,
   "metadata": {
    "ExecuteTime": {
     "end_time": "2023-05-17T14:41:17.247968Z",
     "start_time": "2023-05-17T14:41:17.246369Z"
    }
   },
   "outputs": [],
   "source": [
    "# def load_mf_softmax():\n",
    "#     basepath = pathlib.Path(\"/Volumes/Data/mf_alexnet_softmax\")\n",
    "\n",
    "#     paths = basepath.glob(\"*.mat\")\n",
    "#     paths = sorted(paths, key=lambda p: int(p.stem))\n",
    "#     encodings = [loadmat(p)[\"features\"] for p in paths]\n",
    "#     encodings = np.concatenate(encodings)\n",
    "#     return encodings"
   ]
  },
  {
   "cell_type": "code",
   "execution_count": 4,
   "metadata": {
    "ExecuteTime": {
     "end_time": "2023-05-17T14:41:17.382785Z",
     "start_time": "2023-05-17T14:41:17.249878Z"
    }
   },
   "outputs": [
    {
     "name": "stdout",
     "output_type": "stream",
     "text": [
      "File imagenet_classes.txt already exists\n"
     ]
    }
   ],
   "source": [
    "# Download ImageNet labels\n",
    "\n",
    "! if [ -f \"imagenet_classes.txt\" ]; then echo \"File imagenet_classes.txt already exists\"; else wget https://raw.githubusercontent.com/pytorch/hub/master/imagenet_classes.txt 2> /dev/null; fi\n"
   ]
  },
  {
   "cell_type": "code",
   "execution_count": 5,
   "metadata": {
    "ExecuteTime": {
     "end_time": "2023-05-17T14:41:17.383418Z",
     "start_time": "2023-05-17T14:41:17.369820Z"
    }
   },
   "outputs": [],
   "source": [
    "# Read the categories\n",
    "with open(\"imagenet_classes.txt\", \"r\") as f:\n",
    "    categories = [s.strip() for s in f.readlines()]"
   ]
  },
  {
   "cell_type": "code",
   "execution_count": 6,
   "metadata": {
    "ExecuteTime": {
     "end_time": "2023-05-17T14:42:21.013786Z",
     "start_time": "2023-05-17T14:41:17.383290Z"
    }
   },
   "outputs": [],
   "source": [
    "from pathlib import Path\n",
    "# Load the softmax encodings of the data\n",
    "\n",
    "from simcoder.similarity import load_mf_encodings\n",
    "\n",
    "smData = load_mf_encodings(Path('/Volumes/Data/mf_alexnet_softmax'))\n",
    "\n",
    "# Load the data\n",
    "\n",
    "allData = load_mf_encodings(Path(\"/Volumes/Data/mf_resnet50\")) # load resnet 50 encodings"
   ]
  },
  {
   "cell_type": "code",
   "execution_count": 7,
   "metadata": {
    "ExecuteTime": {
     "end_time": "2023-05-17T14:44:59.570370Z",
     "start_time": "2023-05-17T14:44:57.531839Z"
    }
   },
   "outputs": [],
   "source": [
    "from simcoder.count_cats import findHighlyCategorisedInDataset\n",
    "from simcoder.count_cats import countNumberinCatGTThresh\n",
    "\n",
    "threshold = 0.95\n",
    "\n",
    "top_cats, counts  = findHighlyCategorisedInDataset(smData,threshold)\n"
   ]
  },
  {
   "cell_type": "code",
   "execution_count": 8,
   "metadata": {
    "ExecuteTime": {
     "end_time": "2023-05-17T14:45:00.777460Z",
     "start_time": "2023-05-17T14:45:00.732408Z"
    }
   },
   "outputs": [
    {
     "name": "stdout",
     "output_type": "stream",
     "text": [
      "985 2208 daisy 2208\n",
      "984 596 rapeseed 596\n",
      "425 489 barn 489\n",
      "759 483 reflex camera 483\n",
      "309 459 bee 459\n",
      "483 444 castle 444\n",
      "97 428 drake 428\n",
      "291 420 lion 420\n",
      "565 408 freight car 408\n",
      "989 381 hip 381\n",
      "107 330 jellyfish 330\n",
      "916 317 web site 317\n",
      "335 298 fox squirrel 298\n",
      "980 293 volcano 293\n",
      "323 275 monarch 275\n",
      "340 266 zebra 266\n",
      "404 261 airliner 261\n",
      "284 259 Siamese cat 259\n",
      "84 255 peacock 255\n",
      "388 254 giant panda 254\n",
      "283 250 Persian cat 250\n",
      "99 232 goose 232\n",
      "437 219 beacon 219\n",
      "333 217 hamster 217\n",
      "417 215 balloon 215\n",
      "919 213 street sign 213\n",
      "820 210 steam locomotive 210\n",
      "130 206 flamingo 206\n",
      "88 205 macaw 205\n",
      "888 205 viaduct 205\n",
      "22 204 bald eagle 204\n",
      "308 203 fly 203\n",
      "11 189 goldfinch 189\n",
      "562 188 fountain 188\n",
      "538 187 dome 187\n",
      "607 186 jack-o'-lantern 186\n",
      "908 183 wing 183\n",
      "949 178 strawberry 178\n",
      "958 174 hay 174\n",
      "326 170 lycaenid 170\n",
      "628 167 liner 167\n",
      "576 167 gondola 167\n",
      "815 167 spider web 167\n",
      "884 166 vault 166\n",
      "301 159 ladybug 159\n",
      "319 155 dragonfly 155\n",
      "90 152 lorikeet 152\n",
      "321 152 admiral 152\n",
      "917 152 comic book 152\n",
      "144 148 pelican 148\n",
      "94 146 hummingbird 146\n",
      "698 141 palace 141\n",
      "293 139 cheetah 139\n",
      "970 137 alp 137\n",
      "24 136 great grey owl 136\n",
      "328 133 sea urchin 133\n",
      "458 132 brass 132\n",
      "506 131 coil 131\n",
      "611 130 jigsaw puzzle 130\n",
      "19 127 chickadee 127\n",
      "649 126 megalith 126\n",
      "17 126 jay 126\n",
      "873 124 triumphal arch 124\n",
      "132 122 American egret 122\n",
      "643 120 mask 120\n",
      "971 114 bubble 114\n",
      "296 112 ice bear 112\n",
      "979 111 valley 111\n",
      "1 111 goldfish 111\n",
      "974 108 geyser 108\n",
      "858 107 tile roof 107\n",
      "736 105 pool table 105\n",
      "498 104 cinema 104\n",
      "723 103 pinwheel 103\n",
      "92 101 bee eater 101\n",
      "10 101 brambling 101\n",
      "821 98 steel arch bridge 98\n",
      "15 98 robin 98\n",
      "850 98 teddy 98\n",
      "325 97 sulphur butterfly 97\n",
      "646 96 maze 96\n",
      "476 95 carousel 95\n",
      "963 95 pizza 95\n",
      "853 95 thatch 95\n",
      "557 94 flagpole 94\n",
      "922 93 menu 93\n",
      "12 93 house finch 93\n",
      "455 92 bottlecap 92\n",
      "640 91 manhole cover 91\n",
      "470 91 candle 91\n",
      "715 90 pickelhaube 90\n",
      "967 90 espresso 90\n",
      "324 90 cabbage butterfly 90\n",
      "687 90 organ 90\n",
      "547 89 electric locomotive 89\n",
      "497 89 church 89\n",
      "9 88 ostrich 88\n",
      "555 87 fire engine 87\n",
      "322 85 ringlet 85\n",
      "339 84 sorrel 84\n"
     ]
    }
   ],
   "source": [
    "\n",
    "for i in range(100):\n",
    "    print( top_cats[i], counts[i], categories[top_cats[i]], countNumberinCatGTThresh(top_cats[i],threshold,smData) )"
   ]
  },
  {
   "cell_type": "code",
   "execution_count": 9,
   "metadata": {},
   "outputs": [
    {
     "name": "stdout",
     "output_type": "stream",
     "text": [
      "found 101 results\n",
      "1 140 goldfish 140\n",
      "9 101 ostrich 101\n",
      "10 153 brambling 153\n",
      "12 140 house finch 140\n",
      "15 120 robin 120\n",
      "17 144 jay 144\n",
      "19 151 chickadee 151\n",
      "21 154 kite 154\n",
      "24 156 great grey owl 156\n",
      "90 192 lorikeet 192\n",
      "92 134 bee eater 134\n",
      "113 92 snail 92\n",
      "131 89 little blue heron 89\n",
      "132 188 American egret 188\n",
      "134 97 crane 97\n",
      "144 181 pelican 181\n",
      "145 83 king penguin 83\n",
      "148 98 killer whale 98\n",
      "254 107 pug 107\n",
      "292 132 tiger 132\n",
      "293 168 cheetah 168\n",
      "296 137 ice bear 137\n",
      "320 119 damselfly 119\n",
      "322 126 ringlet 126\n",
      "324 148 cabbage butterfly 148\n",
      "325 150 sulphur butterfly 150\n",
      "339 133 sorrel 133\n",
      "354 86 Arabian camel 86\n",
      "406 93 altar 93\n",
      "444 134 bicycle-built-for-two 134\n",
      "445 83 bikini 83\n",
      "449 99 boathouse 99\n",
      "455 141 bottlecap 141\n",
      "458 182 brass 182\n",
      "466 98 bullet train 98\n",
      "468 138 cab 138\n",
      "470 122 candle 122\n",
      "475 95 car mirror 95\n",
      "476 139 carousel 139\n",
      "489 89 chainlink fence 89\n",
      "498 191 cinema 191\n",
      "500 117 cliff dwelling 117\n",
      "506 192 coil 192\n",
      "510 94 container ship 94\n",
      "517 124 crane 124\n",
      "525 129 dam 129\n",
      "536 81 dock 81\n",
      "539 111 doormat 111\n",
      "547 166 electric locomotive 166\n",
      "555 121 fire engine 121\n",
      "557 134 flagpole 134\n",
      "580 121 greenhouse 121\n",
      "581 107 grille 107\n",
      "605 82 iPod 82\n",
      "640 126 manhole cover 126\n",
      "646 140 maze 140\n",
      "649 180 megalith 180\n",
      "668 133 mosque 133\n",
      "671 122 mountain bike 122\n",
      "679 91 necklace 91\n",
      "682 128 obelisk 128\n",
      "687 114 organ 114\n",
      "701 114 parachute 114\n",
      "703 99 park bench 99\n",
      "715 116 pickelhaube 116\n",
      "718 171 pier 171\n",
      "723 185 pinwheel 185\n",
      "724 97 pirate 97\n",
      "727 96 planetarium 96\n",
      "736 132 pool table 132\n",
      "743 94 prison 94\n",
      "746 103 puck 103\n",
      "781 100 scoreboard 100\n",
      "819 132 stage 132\n",
      "821 169 steel arch bridge 169\n",
      "825 115 stone wall 115\n",
      "829 131 streetcar 131\n",
      "832 124 stupa 124\n",
      "839 115 suspension bridge 115\n",
      "850 165 teddy 165\n",
      "853 133 thatch 133\n",
      "858 188 tile roof 188\n",
      "873 176 triumphal arch 176\n",
      "874 96 trolleybus 96\n",
      "879 100 umbrella 100\n",
      "890 103 volleyball 103\n",
      "895 112 warplane 112\n",
      "900 87 water tower 87\n",
      "903 135 wig 135\n",
      "918 83 crossword puzzle 83\n",
      "920 124 traffic light 124\n",
      "922 176 menu 176\n",
      "933 97 cheeseburger 97\n",
      "946 149 cardoon 149\n",
      "950 92 orange 92\n",
      "957 99 pomegranate 99\n",
      "963 141 pizza 141\n",
      "967 128 espresso 128\n",
      "971 171 bubble 171\n",
      "974 166 geyser 166\n",
      "981 103 ballplayer 103\n"
     ]
    }
   ],
   "source": [
    "from simcoder.count_cats import findCatsWithCountMoreThanLessThan\n",
    "\n",
    "threshold = 0.90\n",
    "\n",
    "range_catsx,counts = findCatsWithCountMoreThanLessThan(80,195,smData,threshold)\n",
    "\n",
    "print( f\"found {range_catsx.size} results\")\n",
    "for i in range(range_catsx.size):\n",
    "    print( range_catsx[i], counts[i], categories[range_catsx[i]], countNumberinCatGTThresh(range_catsx[i],threshold,smData) )"
   ]
  },
  {
   "cell_type": "code",
   "execution_count": 10,
   "metadata": {},
   "outputs": [
    {
     "ename": "ModuleNotFoundError",
     "evalue": "No module named 'pandas'",
     "output_type": "error",
     "traceback": [
      "\u001b[0;31m---------------------------------------------------------------------------\u001b[0m",
      "\u001b[0;31mModuleNotFoundError\u001b[0m                       Traceback (most recent call last)",
      "Cell \u001b[0;32mIn[10], line 1\u001b[0m\n\u001b[0;32m----> 1\u001b[0m \u001b[39mfrom\u001b[39;00m \u001b[39msimcoder\u001b[39;00m\u001b[39m.\u001b[39;00m\u001b[39mexperiment\u001b[39;00m \u001b[39mimport\u001b[39;00m get_nth_categorical_query\n\u001b[1;32m      3\u001b[0m top_caters \u001b[39m=\u001b[39m top_cats[\u001b[39m0\u001b[39m: \u001b[39m100\u001b[39m]  \u001b[39m# subset the top categories\u001b[39;00m\n\u001b[1;32m      4\u001b[0m \u001b[39mprint\u001b[39m( categories[top_caters[\u001b[39m0\u001b[39m]] )\n",
      "File \u001b[0;32m~/repos/simcoder-pytorch/notebooks/../simcoder/experiment.py:9\u001b[0m\n\u001b[1;32m      7\u001b[0m \u001b[39mimport\u001b[39;00m \u001b[39mclick\u001b[39;00m\n\u001b[1;32m      8\u001b[0m \u001b[39mimport\u001b[39;00m \u001b[39mnumpy\u001b[39;00m \u001b[39mas\u001b[39;00m \u001b[39mnp\u001b[39;00m\n\u001b[0;32m----> 9\u001b[0m \u001b[39mimport\u001b[39;00m \u001b[39mpandas\u001b[39;00m \u001b[39mas\u001b[39;00m \u001b[39mpd\u001b[39;00m\n\u001b[1;32m     11\u001b[0m \u001b[39mfrom\u001b[39;00m \u001b[39mscipy\u001b[39;00m\u001b[39m.\u001b[39;00m\u001b[39mspatial\u001b[39;00m\u001b[39m.\u001b[39;00m\u001b[39mdistance\u001b[39;00m \u001b[39mimport\u001b[39;00m pdist, squareform\n\u001b[1;32m     13\u001b[0m \u001b[39mfrom\u001b[39;00m \u001b[39msimcoder\u001b[39;00m\u001b[39m.\u001b[39;00m\u001b[39mcount_cats\u001b[39;00m \u001b[39mimport\u001b[39;00m getBestCatsInSubset, get_best_cat_index, count_number_in_results_in_cat, findHighlyCategorisedInDataset, get_topcat\n",
      "\u001b[0;31mModuleNotFoundError\u001b[0m: No module named 'pandas'"
     ]
    }
   ],
   "source": [
    "from simcoder.experiment import get_nth_categorical_query\n",
    "\n",
    "top_caters = top_cats[0: 100]  # subset the top categories\n",
    "print( categories[top_caters[0]] )\n",
    "queries = get_nth_categorical_query(top_caters,smData,0)  # get one query in each category\n",
    "\n",
    "from simcoder.similarity import get_mf_image"
   ]
  },
  {
   "cell_type": "code",
   "execution_count": null,
   "metadata": {},
   "outputs": [],
   "source": [
    "from simcoder.count_cats import get_topcat\n",
    "\n",
    "\n",
    "q = queries[9]\n",
    "found_cat = get_topcat(q,smData)\n",
    "print( categories[found_cat] )\n",
    "get_mf_image(q)"
   ]
  }
 ],
 "metadata": {
  "kernelspec": {
   "display_name": "Python 3",
   "language": "python",
   "name": "python3"
  },
  "language_info": {
   "codemirror_mode": {
    "name": "ipython",
    "version": 3
   },
   "file_extension": ".py",
   "mimetype": "text/x-python",
   "name": "python",
   "nbconvert_exporter": "python",
   "pygments_lexer": "ipython3",
   "version": "3.11.1"
  },
  "orig_nbformat": 4
 },
 "nbformat": 4,
 "nbformat_minor": 2
}
