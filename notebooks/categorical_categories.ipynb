{
 "cells": [
  {
   "attachments": {},
   "cell_type": "markdown",
   "metadata": {},
   "source": [
    "Find the most highly categorised data in the dataset"
   ]
  },
  {
   "cell_type": "code",
   "execution_count": 10,
   "metadata": {
    "ExecuteTime": {
     "end_time": "2023-05-17T14:41:17.240771Z",
     "start_time": "2023-05-17T14:41:15.004044Z"
    }
   },
   "outputs": [],
   "source": [
    "import sys\n",
    "!{sys.executable} -m pip install torch torchvision scipy matplotlib | grep -v 'already satisfied'"
   ]
  },
  {
   "cell_type": "code",
   "execution_count": 11,
   "metadata": {
    "ExecuteTime": {
     "end_time": "2023-05-17T14:41:17.244647Z",
     "start_time": "2023-05-17T14:41:17.241419Z"
    }
   },
   "outputs": [],
   "source": [
    "from scipy.io import loadmat\n",
    "import numpy as np\n",
    "import pathlib\n",
    "\n",
    "# nasty import hack - this is a code smell, work out how to remove it\n",
    "import sys\n",
    "sys.path.append('../')"
   ]
  },
  {
   "cell_type": "code",
   "execution_count": 12,
   "metadata": {
    "ExecuteTime": {
     "end_time": "2023-05-17T14:41:17.247968Z",
     "start_time": "2023-05-17T14:41:17.246369Z"
    }
   },
   "outputs": [],
   "source": [
    "def load_mf_softmax():\n",
    "    basepath = pathlib.Path(\"/Volumes/Data/mf_softmax/\")\n",
    "\n",
    "    paths = basepath.glob(\"*.mat\")\n",
    "    paths = sorted(paths, key=lambda p: int(p.stem))\n",
    "    encodings = [loadmat(p)[\"probVecs\"] for p in paths]\n",
    "    encodings = np.concatenate(encodings)\n",
    "    return encodings"
   ]
  },
  {
   "cell_type": "code",
   "execution_count": 13,
   "metadata": {
    "ExecuteTime": {
     "end_time": "2023-05-17T14:41:17.382785Z",
     "start_time": "2023-05-17T14:41:17.249878Z"
    }
   },
   "outputs": [
    {
     "name": "stdout",
     "output_type": "stream",
     "text": [
      "File imagenet_classes.txt already exists\n"
     ]
    }
   ],
   "source": [
    "# Download ImageNet labels\n",
    "\n",
    "! if [ -f \"imagenet_classes.txt\" ]; then echo \"File imagenet_classes.txt already exists\"; else wget https://raw.githubusercontent.com/pytorch/hub/master/imagenet_classes.txt 2> /dev/null; fi\n"
   ]
  },
  {
   "cell_type": "code",
   "execution_count": 14,
   "metadata": {
    "ExecuteTime": {
     "end_time": "2023-05-17T14:41:17.383418Z",
     "start_time": "2023-05-17T14:41:17.369820Z"
    }
   },
   "outputs": [],
   "source": [
    "# Read the categories\n",
    "with open(\"imagenet_classes.txt\", \"r\") as f:\n",
    "    categories = [s.strip() for s in f.readlines()]"
   ]
  },
  {
   "cell_type": "code",
   "execution_count": 15,
   "metadata": {
    "ExecuteTime": {
     "end_time": "2023-05-17T14:42:21.013786Z",
     "start_time": "2023-05-17T14:41:17.383290Z"
    }
   },
   "outputs": [],
   "source": [
    "# Load the softmax encodings of the data\n",
    "\n",
    "smData = load_mf_softmax()\n",
    "\n",
    "# Load the data\n",
    "\n",
    "import pathlib\n",
    "from simcoder.similarity import load_mf_encodings\n",
    "\n",
    "allData = load_mf_encodings(pathlib.Path(\"/Volumes/Data/mf_resnet50/\")) # load resnet 50 encodings"
   ]
  },
  {
   "cell_type": "code",
   "execution_count": 16,
   "metadata": {
    "ExecuteTime": {
     "end_time": "2023-05-17T14:44:59.570370Z",
     "start_time": "2023-05-17T14:44:57.531839Z"
    }
   },
   "outputs": [],
   "source": [
    "from simcoder.count_cats import findHighlyCategorisedInDataset\n",
    "from simcoder.count_cats import countNumberinCatGTThresh\n",
    "\n",
    "threshold = 0.95\n",
    "\n",
    "top_cats, counts  = findHighlyCategorisedInDataset(smData,threshold)\n"
   ]
  },
  {
   "cell_type": "code",
   "execution_count": 17,
   "metadata": {
    "ExecuteTime": {
     "end_time": "2023-05-17T14:45:00.777460Z",
     "start_time": "2023-05-17T14:45:00.732408Z"
    }
   },
   "outputs": [
    {
     "name": "stdout",
     "output_type": "stream",
     "text": [
      "985 2387 tench 2387\n",
      "984 879 goldfish 879\n",
      "425 586 great white shark 586\n",
      "980 563 tiger shark 563\n",
      "759 511 hammerhead 511\n",
      "989 509 electric ray 509\n",
      "565 484 stingray 484\n",
      "916 480 cock 480\n",
      "309 438 hen 438\n",
      "97 415 ostrich 415\n",
      "291 393 brambling 393\n",
      "483 383 goldfinch 383\n",
      "107 326 house finch 326\n",
      "437 316 junco 316\n",
      "908 313 indigo bunting 313\n",
      "919 307 robin 307\n",
      "970 303 bulbul 303\n",
      "335 288 jay 288\n",
      "723 251 magpie 251\n",
      "340 248 chickadee 248\n"
     ]
    }
   ],
   "source": [
    "\n",
    "for i in range(20):\n",
    "    print( top_cats[i], counts[i], categories[i], countNumberinCatGTThresh(top_cats[i],threshold,smData) )"
   ]
  }
 ],
 "metadata": {
  "kernelspec": {
   "display_name": "Python 3",
   "language": "python",
   "name": "python3"
  },
  "language_info": {
   "codemirror_mode": {
    "name": "ipython",
    "version": 3
   },
   "file_extension": ".py",
   "mimetype": "text/x-python",
   "name": "python",
   "nbconvert_exporter": "python",
   "pygments_lexer": "ipython3",
   "version": "3.11.1"
  },
  "orig_nbformat": 4
 },
 "nbformat": 4,
 "nbformat_minor": 2
}
