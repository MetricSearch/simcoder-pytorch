{
 "cells": [
  {
   "attachments": {},
   "cell_type": "markdown",
   "metadata": {},
   "source": [
    "Find the most highly categorised data in the dataset"
   ]
  },
  {
   "cell_type": "code",
   "execution_count": 5,
   "metadata": {
    "ExecuteTime": {
     "end_time": "2023-05-17T14:41:17.244647Z",
     "start_time": "2023-05-17T14:41:17.241419Z"
    }
   },
   "outputs": [],
   "source": [
    "from scipy.io import loadmat\n",
    "import numpy as np\n",
    "import pathlib\n"
   ]
  },
  {
   "cell_type": "code",
   "execution_count": 6,
   "metadata": {
    "ExecuteTime": {
     "end_time": "2023-05-17T14:41:17.382785Z",
     "start_time": "2023-05-17T14:41:17.249878Z"
    }
   },
   "outputs": [
    {
     "name": "stdout",
     "output_type": "stream",
     "text": [
      "File imagenet_classes.txt already exists\n"
     ]
    }
   ],
   "source": [
    "# Download ImageNet labels\n",
    "\n",
    "! if [ -f \"imagenet_classes.txt\" ]; then echo \"File imagenet_classes.txt already exists\"; else wget https://raw.githubusercontent.com/pytorch/hub/master/imagenet_classes.txt 2> /dev/null; fi\n"
   ]
  },
  {
   "cell_type": "code",
   "execution_count": 7,
   "metadata": {
    "ExecuteTime": {
     "end_time": "2023-05-17T14:41:17.383418Z",
     "start_time": "2023-05-17T14:41:17.369820Z"
    }
   },
   "outputs": [],
   "source": [
    "# Read the categories\n",
    "with open(\"imagenet_classes.txt\", \"r\") as f:\n",
    "    categories = [s.strip() for s in f.readlines()]"
   ]
  },
  {
   "cell_type": "code",
   "execution_count": 8,
   "metadata": {
    "ExecuteTime": {
     "end_time": "2023-05-17T14:42:21.013786Z",
     "start_time": "2023-05-17T14:41:17.383290Z"
    }
   },
   "outputs": [],
   "source": [
    "from pathlib import Path\n",
    "# Load the softmax encodings of the data\n",
    "\n",
    "from sisap2023.utils.mirflickr import load_encodings\n",
    "\n",
    "smData = load_encodings(Path('/Volumes/Data/mf_resnet50_softmax'))\n",
    "\n",
    "# Load the data\n",
    "\n",
    "allData = load_encodings(Path(\"/Volumes/Data/mf_resnet50\")) # load resnet 50 encodings"
   ]
  },
  {
   "cell_type": "code",
   "execution_count": 10,
   "metadata": {
    "ExecuteTime": {
     "end_time": "2023-05-17T14:44:59.570370Z",
     "start_time": "2023-05-17T14:44:57.531839Z"
    }
   },
   "outputs": [],
   "source": [
    "from sisap2023.utils.count_cats import findHighlyCategorisedInDataset\n",
    "\n",
    "threshold = 0.95\n",
    "\n",
    "top_cats, counts  = findHighlyCategorisedInDataset(smData,threshold)\n"
   ]
  },
  {
   "cell_type": "code",
   "execution_count": 12,
   "metadata": {
    "ExecuteTime": {
     "end_time": "2023-05-17T14:45:00.777460Z",
     "start_time": "2023-05-17T14:45:00.732408Z"
    }
   },
   "outputs": [
    {
     "name": "stdout",
     "output_type": "stream",
     "text": [
      "985 1787 daisy 1787\n",
      "425 951 barn 951\n",
      "562 909 fountain 909\n",
      "309 897 bee 897\n",
      "483 844 castle 844\n",
      "984 785 rapeseed 785\n",
      "759 757 reflex camera 757\n",
      "291 518 lion 518\n",
      "97 499 drake 499\n",
      "916 479 web site 479\n",
      "970 475 alp 475\n",
      "565 462 freight car 462\n",
      "919 458 street sign 458\n",
      "980 411 volcano 411\n",
      "917 410 comic book 410\n",
      "643 400 mask 400\n",
      "437 398 beacon 398\n",
      "333 396 hamster 396\n",
      "308 393 fly 393\n",
      "989 387 hip 387\n",
      "284 379 Siamese cat 379\n",
      "506 378 coil 378\n",
      "489 377 chainlink fence 377\n",
      "319 372 dragonfly 372\n",
      "107 371 jellyfish 371\n",
      "99 362 goose 362\n",
      "879 357 umbrella 357\n",
      "971 342 bubble 342\n",
      "335 328 fox squirrel 328\n",
      "283 328 Persian cat 328\n",
      "884 323 vault 323\n",
      "703 321 park bench 321\n",
      "888 317 viaduct 317\n",
      "417 314 balloon 314\n",
      "820 299 steam locomotive 299\n",
      "979 292 valley 292\n",
      "497 288 church 288\n",
      "611 282 jigsaw puzzle 282\n",
      "340 280 zebra 280\n",
      "388 279 giant panda 279\n",
      "819 276 stage 276\n",
      "94 272 hummingbird 272\n",
      "815 271 spider web 271\n",
      "470 271 candle 271\n",
      "84 270 peacock 270\n",
      "908 266 wing 266\n",
      "525 260 dam 260\n",
      "850 259 teddy 259\n",
      "649 251 megalith 251\n",
      "144 245 pelican 245\n",
      "698 241 palace 241\n",
      "458 241 brass 241\n",
      "130 240 flamingo 240\n",
      "958 234 hay 234\n",
      "22 233 bald eagle 233\n",
      "743 227 prison 227\n",
      "404 227 airliner 227\n",
      "323 223 monarch 223\n",
      "88 218 macaw 218\n",
      "301 217 ladybug 217\n",
      "580 212 greenhouse 212\n",
      "858 212 tile roof 212\n",
      "449 209 boathouse 209\n",
      "538 205 dome 205\n",
      "920 200 traffic light 200\n",
      "581 200 grille 200\n",
      "668 199 mosque 199\n",
      "646 198 maze 198\n",
      "552 197 feather boa 197\n",
      "628 196 liner 196\n",
      "576 195 gondola 195\n",
      "903 194 wig 194\n",
      "607 193 jack-o'-lantern 193\n",
      "821 193 steel arch bridge 193\n",
      "21 192 kite 192\n",
      "557 189 flagpole 189\n",
      "339 188 sorrel 188\n",
      "11 185 goldfinch 185\n",
      "293 181 cheetah 181\n",
      "723 180 pinwheel 180\n",
      "614 179 kimono 179\n",
      "296 174 ice bear 174\n",
      "19 173 chickadee 173\n",
      "829 173 streetcar 173\n",
      "949 168 strawberry 168\n",
      "498 167 cinema 167\n",
      "113 167 snail 167\n",
      "913 163 wreck 163\n",
      "132 163 American egret 163\n",
      "682 163 obelisk 163\n",
      "421 162 bannister 162\n",
      "90 161 lorikeet 161\n",
      "254 161 pug 161\n",
      "652 160 military uniform 160\n",
      "933 157 cheeseburger 157\n",
      "445 156 bikini 156\n",
      "17 156 jay 156\n",
      "468 154 cab 154\n",
      "839 152 suspension bridge 152\n",
      "321 152 admiral 152\n"
     ]
    }
   ],
   "source": [
    "from sisap2023.utils.count_cats import count_number_in_cat_gt_thresh\n",
    "\n",
    "for i in range(100):\n",
    "    print( top_cats[i], counts[i], categories[top_cats[i]], count_number_in_cat_gt_thresh(top_cats[i],threshold,smData) )"
   ]
  },
  {
   "cell_type": "code",
   "execution_count": 15,
   "metadata": {},
   "outputs": [
    {
     "name": "stdout",
     "output_type": "stream",
     "text": [
      "found 100 results\n",
      "9 124 ostrich 124\n",
      "12 143 house finch 143\n",
      "15 110 robin 110\n",
      "31 106 tree frog 106\n",
      "131 109 little blue heron 109\n",
      "145 125 king penguin 125\n",
      "146 147 albatross 147\n",
      "148 121 killer whale 121\n",
      "150 122 sea lion 122\n",
      "151 134 Chihuahua 134\n",
      "207 124 golden retriever 124\n",
      "292 144 tiger 144\n",
      "310 132 ant 132\n",
      "315 142 mantis 142\n",
      "320 120 damselfly 120\n",
      "324 144 cabbage butterfly 144\n",
      "327 102 starfish 102\n",
      "348 133 ram 133\n",
      "354 136 Arabian camel 136\n",
      "366 136 gorilla 136\n",
      "401 137 accordion 137\n",
      "402 154 acoustic guitar 154\n",
      "406 122 altar 122\n",
      "424 135 barbershop 135\n",
      "433 101 bathing cap 101\n",
      "441 157 beer glass 157\n",
      "442 111 bell cote 111\n",
      "447 105 binoculars 105\n",
      "448 109 birdhouse 109\n",
      "452 165 bonnet 165\n",
      "455 165 bottlecap 165\n",
      "457 120 bow tie 120\n",
      "460 132 breakwater 132\n",
      "466 114 bullet train 114\n",
      "475 174 car mirror 174\n",
      "476 159 carousel 159\n",
      "488 119 chain 119\n",
      "510 103 container ship 103\n",
      "515 113 cowboy hat 113\n",
      "536 183 dock 183\n",
      "546 138 electric guitar 138\n",
      "555 150 fire engine 150\n",
      "568 159 fur coat 159\n",
      "603 162 horse cart 162\n",
      "605 172 iPod 172\n",
      "608 160 jean 160\n",
      "615 102 knee pad 102\n",
      "616 134 knot 134\n",
      "629 119 lipstick 119\n",
      "637 110 mailbox 110\n",
      "640 118 manhole cover 118\n",
      "644 121 matchstick 121\n",
      "655 126 miniskirt 126\n",
      "661 118 Model T 118\n",
      "671 145 mountain bike 145\n",
      "679 157 necklace 157\n",
      "687 114 organ 114\n",
      "695 169 padlock 169\n",
      "701 154 parachute 154\n",
      "705 130 passenger car 130\n",
      "708 175 pedestal 175\n",
      "715 120 pickelhaube 120\n",
      "716 155 picket fence 155\n",
      "724 104 pirate 104\n",
      "733 117 pole 117\n",
      "734 111 police van 111\n",
      "736 147 pool table 147\n",
      "738 129 pot 129\n",
      "746 101 puck 101\n",
      "770 148 running shoe 148\n",
      "781 119 scoreboard 119\n",
      "791 125 shopping cart 125\n",
      "795 102 ski 102\n",
      "806 152 sock 152\n",
      "807 105 solar dish 105\n",
      "817 132 sports car 132\n",
      "842 123 swimming trunks 123\n",
      "843 173 swing 173\n",
      "847 102 tank 102\n",
      "853 182 thatch 182\n",
      "865 122 toyshop 122\n",
      "872 108 tripod 108\n",
      "890 132 volleyball 132\n",
      "900 124 water tower 124\n",
      "904 106 window screen 106\n",
      "912 169 worm fence 169\n",
      "918 157 crossword puzzle 157\n",
      "937 110 broccoli 110\n",
      "945 137 bell pepper 137\n",
      "950 143 orange 143\n",
      "957 138 pomegranate 138\n",
      "960 113 chocolate sauce 113\n",
      "963 167 pizza 167\n",
      "967 160 espresso 160\n",
      "972 120 cliff 120\n",
      "974 131 geyser 131\n",
      "975 180 lakeside 180\n",
      "976 129 promontory 129\n",
      "981 153 ballplayer 153\n",
      "982 162 groom 162\n"
     ]
    }
   ],
   "source": [
    "from sisap2023.utils.count_cats import find_cats_with_count_more_than_less_than\n",
    "\n",
    "threshold = 0.90\n",
    "\n",
    "range_catsx,counts = find_cats_with_count_more_than_less_than(100,184,smData,threshold)\n",
    "\n",
    "print( f\"found {range_catsx.size} results\")\n",
    "for i in range(range_catsx.size):\n",
    "    print( range_catsx[i], counts[i], categories[range_catsx[i]], count_number_in_cat_gt_thresh(range_catsx[i],threshold,smData) )"
   ]
  }
 ],
 "metadata": {
  "kernelspec": {
   "display_name": "Python 3",
   "language": "python",
   "name": "python3"
  },
  "language_info": {
   "codemirror_mode": {
    "name": "ipython",
    "version": 3
   },
   "file_extension": ".py",
   "mimetype": "text/x-python",
   "name": "python",
   "nbconvert_exporter": "python",
   "pygments_lexer": "ipython3",
   "version": "3.11.1"
  },
  "orig_nbformat": 4
 },
 "nbformat": 4,
 "nbformat_minor": 2
}
