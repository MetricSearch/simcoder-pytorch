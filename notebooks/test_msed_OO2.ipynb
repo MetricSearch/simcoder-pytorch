{
 "cells": [
  {
   "attachments": {},
   "cell_type": "markdown",
   "metadata": {},
   "source": [
    "Try and find two catgeories that can be combined."
   ]
  },
  {
   "cell_type": "code",
   "execution_count": 1,
   "metadata": {},
   "outputs": [
    {
     "ename": "KeyboardInterrupt",
     "evalue": "",
     "output_type": "error",
     "traceback": [
      "\u001b[0;31m---------------------------------------------------------------------------\u001b[0m",
      "\u001b[0;31mKeyboardInterrupt\u001b[0m                         Traceback (most recent call last)",
      "Cell \u001b[0;32mIn[1], line 8\u001b[0m\n\u001b[1;32m      4\u001b[0m \u001b[39mfrom\u001b[39;00m \u001b[39msimcoder\u001b[39;00m\u001b[39m.\u001b[39;00m\u001b[39msimilarity\u001b[39;00m \u001b[39mimport\u001b[39;00m load_mf_encodings, load_mf_softmax\n\u001b[1;32m      6\u001b[0m \u001b[39m# Load the data\u001b[39;00m\n\u001b[0;32m----> 8\u001b[0m data \u001b[39m=\u001b[39m load_mf_encodings(Path(\u001b[39m\"\u001b[39;49m\u001b[39m/Volumes/Data/mf_resnet50\u001b[39;49m\u001b[39m\"\u001b[39;49m)) \u001b[39m# load encodings\u001b[39;00m\n\u001b[1;32m     10\u001b[0m sm \u001b[39m=\u001b[39m load_mf_softmax(Path(\u001b[39m'\u001b[39m\u001b[39m/Volumes/Data/mf_softmax\u001b[39m\u001b[39m'\u001b[39m))\n\u001b[1;32m     12\u001b[0m \u001b[39mfrom\u001b[39;00m \u001b[39msimcoder\u001b[39;00m\u001b[39m.\u001b[39;00m\u001b[39mmsedOO\u001b[39;00m \u001b[39mimport\u001b[39;00m l1_norm\n",
      "File \u001b[0;32m~/repos/simcoder-pytorch/simcoder/similarity.py:34\u001b[0m, in \u001b[0;36mload_mf_encodings\u001b[0;34m(encodings_dir)\u001b[0m\n\u001b[1;32m     33\u001b[0m \u001b[39mdef\u001b[39;00m \u001b[39mload_mf_encodings\u001b[39m(encodings_dir: Path) \u001b[39m-\u001b[39m\u001b[39m>\u001b[39m np\u001b[39m.\u001b[39marray:\n\u001b[0;32m---> 34\u001b[0m     \u001b[39mreturn\u001b[39;00m load_encodings_mat(encodings_dir, key\u001b[39m=\u001b[39;49m\u001b[39m'\u001b[39;49m\u001b[39mfeatures\u001b[39;49m\u001b[39m'\u001b[39;49m)\n",
      "File \u001b[0;32m~/repos/simcoder-pytorch/simcoder/similarity.py:29\u001b[0m, in \u001b[0;36mload_encodings_mat\u001b[0;34m(encodings_dir, key)\u001b[0m\n\u001b[1;32m     27\u001b[0m paths \u001b[39m=\u001b[39m encodings_dir\u001b[39m.\u001b[39mglob(\u001b[39m\"\u001b[39m\u001b[39m*.mat\u001b[39m\u001b[39m\"\u001b[39m)\n\u001b[1;32m     28\u001b[0m paths \u001b[39m=\u001b[39m \u001b[39msorted\u001b[39m(paths, key\u001b[39m=\u001b[39m\u001b[39mlambda\u001b[39;00m p: \u001b[39mint\u001b[39m(p\u001b[39m.\u001b[39mstem))\n\u001b[0;32m---> 29\u001b[0m encodings \u001b[39m=\u001b[39m [loadmat(p)[key] \u001b[39mfor\u001b[39;49;00m p \u001b[39min\u001b[39;49;00m paths]\n\u001b[1;32m     30\u001b[0m encodings \u001b[39m=\u001b[39m np\u001b[39m.\u001b[39mconcatenate(encodings)\n\u001b[1;32m     31\u001b[0m \u001b[39mreturn\u001b[39;00m encodings\n",
      "File \u001b[0;32m~/repos/simcoder-pytorch/simcoder/similarity.py:29\u001b[0m, in \u001b[0;36m<listcomp>\u001b[0;34m(.0)\u001b[0m\n\u001b[1;32m     27\u001b[0m paths \u001b[39m=\u001b[39m encodings_dir\u001b[39m.\u001b[39mglob(\u001b[39m\"\u001b[39m\u001b[39m*.mat\u001b[39m\u001b[39m\"\u001b[39m)\n\u001b[1;32m     28\u001b[0m paths \u001b[39m=\u001b[39m \u001b[39msorted\u001b[39m(paths, key\u001b[39m=\u001b[39m\u001b[39mlambda\u001b[39;00m p: \u001b[39mint\u001b[39m(p\u001b[39m.\u001b[39mstem))\n\u001b[0;32m---> 29\u001b[0m encodings \u001b[39m=\u001b[39m [loadmat(p)[key] \u001b[39mfor\u001b[39;00m p \u001b[39min\u001b[39;00m paths]\n\u001b[1;32m     30\u001b[0m encodings \u001b[39m=\u001b[39m np\u001b[39m.\u001b[39mconcatenate(encodings)\n\u001b[1;32m     31\u001b[0m \u001b[39mreturn\u001b[39;00m encodings\n",
      "File \u001b[0;32m~/repos/simcoder-pytorch/venv/lib/python3.11/site-packages/scipy/io/matlab/_mio.py:227\u001b[0m, in \u001b[0;36mloadmat\u001b[0;34m(file_name, mdict, appendmat, **kwargs)\u001b[0m\n\u001b[1;32m    225\u001b[0m \u001b[39mwith\u001b[39;00m _open_file_context(file_name, appendmat) \u001b[39mas\u001b[39;00m f:\n\u001b[1;32m    226\u001b[0m     MR, _ \u001b[39m=\u001b[39m mat_reader_factory(f, \u001b[39m*\u001b[39m\u001b[39m*\u001b[39mkwargs)\n\u001b[0;32m--> 227\u001b[0m     matfile_dict \u001b[39m=\u001b[39m MR\u001b[39m.\u001b[39;49mget_variables(variable_names)\n\u001b[1;32m    229\u001b[0m \u001b[39mif\u001b[39;00m mdict \u001b[39mis\u001b[39;00m \u001b[39mnot\u001b[39;00m \u001b[39mNone\u001b[39;00m:\n\u001b[1;32m    230\u001b[0m     mdict\u001b[39m.\u001b[39mupdate(matfile_dict)\n",
      "File \u001b[0;32m~/repos/simcoder-pytorch/venv/lib/python3.11/site-packages/scipy/io/matlab/_mio5.py:332\u001b[0m, in \u001b[0;36mMatFile5Reader.get_variables\u001b[0;34m(self, variable_names)\u001b[0m\n\u001b[1;32m    330\u001b[0m     \u001b[39mcontinue\u001b[39;00m\n\u001b[1;32m    331\u001b[0m \u001b[39mtry\u001b[39;00m:\n\u001b[0;32m--> 332\u001b[0m     res \u001b[39m=\u001b[39m \u001b[39mself\u001b[39;49m\u001b[39m.\u001b[39;49mread_var_array(hdr, process)\n\u001b[1;32m    333\u001b[0m \u001b[39mexcept\u001b[39;00m MatReadError \u001b[39mas\u001b[39;00m err:\n\u001b[1;32m    334\u001b[0m     warnings\u001b[39m.\u001b[39mwarn(\n\u001b[1;32m    335\u001b[0m         \u001b[39m'\u001b[39m\u001b[39mUnreadable variable \u001b[39m\u001b[39m\"\u001b[39m\u001b[39m%s\u001b[39;00m\u001b[39m\"\u001b[39m\u001b[39m, because \u001b[39m\u001b[39m\"\u001b[39m\u001b[39m%s\u001b[39;00m\u001b[39m\"\u001b[39m\u001b[39m'\u001b[39m \u001b[39m%\u001b[39m\n\u001b[1;32m    336\u001b[0m         (name, err),\n\u001b[1;32m    337\u001b[0m         \u001b[39mWarning\u001b[39;00m, stacklevel\u001b[39m=\u001b[39m\u001b[39m2\u001b[39m)\n",
      "File \u001b[0;32m~/repos/simcoder-pytorch/venv/lib/python3.11/site-packages/scipy/io/matlab/_mio5.py:292\u001b[0m, in \u001b[0;36mMatFile5Reader.read_var_array\u001b[0;34m(self, header, process)\u001b[0m\n\u001b[1;32m    275\u001b[0m \u001b[39mdef\u001b[39;00m \u001b[39mread_var_array\u001b[39m(\u001b[39mself\u001b[39m, header, process\u001b[39m=\u001b[39m\u001b[39mTrue\u001b[39;00m):\n\u001b[1;32m    276\u001b[0m     \u001b[39m''' Read array, given `header`\u001b[39;00m\n\u001b[1;32m    277\u001b[0m \n\u001b[1;32m    278\u001b[0m \u001b[39m    Parameters\u001b[39;00m\n\u001b[0;32m   (...)\u001b[0m\n\u001b[1;32m    290\u001b[0m \u001b[39m       `process`.\u001b[39;00m\n\u001b[1;32m    291\u001b[0m \u001b[39m    '''\u001b[39;00m\n\u001b[0;32m--> 292\u001b[0m     \u001b[39mreturn\u001b[39;00m \u001b[39mself\u001b[39;49m\u001b[39m.\u001b[39;49m_matrix_reader\u001b[39m.\u001b[39;49marray_from_header(header, process)\n",
      "\u001b[0;31mKeyboardInterrupt\u001b[0m: "
     ]
    }
   ],
   "source": [
    "from pathlib import Path\n",
    "# Load the softmax encodings of the data\n",
    "\n",
    "from simcoder.similarity import load_mf_encodings, load_mf_softmax\n",
    "\n",
    "# Load the data\n",
    "\n",
    "data = load_mf_encodings(Path(\"/Volumes/Data/mf_resnet50\")) # load encodings\n",
    "\n",
    "sm = load_mf_softmax(Path('/Volumes/Data/mf_softmax'))\n",
    "\n",
    "from simcoder.msedOO import l1_norm\n",
    "\n",
    "data = l1_norm(data)\n"
   ]
  },
  {
   "cell_type": "code",
   "execution_count": null,
   "metadata": {},
   "outputs": [],
   "source": [
    "from simcoder.count_cats import get_best_cat_index\n",
    "from simcoder.similarity import get_mf_image\n",
    "\n",
    "# subtract 1 from the file numbers\n",
    "\n",
    "category_1 = 446;\n",
    "category_2 = 978;\n",
    "\n",
    "indexes_for_cat1 = get_best_cat_index(category_1,sm)\n",
    "indexes_for_cat2 = get_best_cat_index(category_2,sm)\n",
    "\n",
    "cat_1_image_rep = data[indexes_for_cat1[0:10]]\n",
    "cat_2_image_rep = data[indexes_for_cat2[0:10]]\n",
    "\n",
    "print( cat_1_image_rep.shape )\n",
    "\n",
    "display(get_mf_image(indexes_for_cat1[0]))\n",
    "display(get_mf_image(indexes_for_cat2[0]))\n"
   ]
  },
  {
   "cell_type": "code",
   "execution_count": null,
   "metadata": {},
   "outputs": [],
   "source": [
    "from simcoder.msedOO import msed\n",
    "import numpy as np\n",
    "\n",
    "\n",
    "poly_query_data = np.vstack((cat_1_image_rep,cat_2_image_rep))\n",
    "\n",
    "print( poly_query_data.shape )\n",
    "\n",
    "base = msed(poly_query_data)  # form the base simplex\n"
   ]
  },
  {
   "cell_type": "code",
   "execution_count": null,
   "metadata": {},
   "outputs": [],
   "source": [
    "combined_dists_2 =  base.msed(data)\n",
    "combined_dists_2 = combined_dists_2.flatten()   # <<< these are all matrices of matrices shouldn't be.\n",
    "indices = np.argsort(combined_dists_2)     # lowest is first\n",
    "top_100 = indices[0:100]\n"
   ]
  },
  {
   "cell_type": "code",
   "execution_count": null,
   "metadata": {},
   "outputs": [],
   "source": [
    "from simcoder.similarity import make_mf_image_grid\n",
    "\n",
    "make_mf_image_grid(top_100,10,10,50,50)"
   ]
  }
 ],
 "metadata": {
  "kernelspec": {
   "display_name": "Python 3",
   "language": "python",
   "name": "python3"
  },
  "language_info": {
   "codemirror_mode": {
    "name": "ipython",
    "version": 3
   },
   "file_extension": ".py",
   "mimetype": "text/x-python",
   "name": "python",
   "nbconvert_exporter": "python",
   "pygments_lexer": "ipython3",
   "version": "3.11.1"
  },
  "orig_nbformat": 4
 },
 "nbformat": 4,
 "nbformat_minor": 2
}
