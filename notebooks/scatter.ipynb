{
 "cells": [
  {
   "attachments": {},
   "cell_type": "markdown",
   "metadata": {},
   "source": [
    "## Program to plot 2D Scatter plots using distances."
   ]
  },
  {
   "cell_type": "code",
   "execution_count": 1,
   "metadata": {},
   "outputs": [],
   "source": [
    "import pathlib\n",
    "from sisap2023.utils.mirflickr import load_encodings\n",
    "\n",
    "import numpy as np"
   ]
  },
  {
   "cell_type": "code",
   "execution_count": 2,
   "metadata": {},
   "outputs": [],
   "source": [
    "allData = load_encodings(pathlib.Path(\"/Volumes/Data/mf_resnet50/\")) # load resnet 50 encodings"
   ]
  },
  {
   "cell_type": "code",
   "execution_count": 3,
   "metadata": {},
   "outputs": [],
   "source": [
    "from sisap2023.metrics.euc import euc, euc_scalar\n",
    "\n",
    "def getDists(query_index,allData):\n",
    "    '''Return the distances from the query to allData'''\n",
    "    '''Returns an array same dimension as allData of scalars'''\n",
    "    mf_query_data = allData[query_index]\n",
    "    distances = euc(mf_query_data, allData)\n",
    "    return distances"
   ]
  },
  {
   "cell_type": "code",
   "execution_count": 4,
   "metadata": {},
   "outputs": [],
   "source": [
    "# Turn 2 distances into x,y position\n",
    "\n",
    "import math \n",
    "\n",
    "def convertTo2D( pivot1,pivot2,data_points):\n",
    "    dists1 = euc( pivot1,data_points )\n",
    "    dists2 = euc( pivot2,data_points )\n",
    "    ipd = euc_scalar( pivot1, pivot2 )\n",
    "    x_offsets_apex = np.abs(( np.square(dists1) - np.square(dists2) + ipd**2 ) / (2 * ipd))\n",
    "    y_offsets_apex = np.sqrt( np.square(dists1) - np.square(x_offsets_apex) )\n",
    "    return x_offsets_apex,y_offsets_apex"
   ]
  },
  {
   "cell_type": "code",
   "execution_count": 5,
   "metadata": {},
   "outputs": [],
   "source": [
    "import matplotlib.pyplot as plt\n",
    "\n",
    "def show2Dscatter(pivot1_index,pivot2_index,data_to_plot):\n",
    "    xs,ys = convertTo2D(allData[pivot1_index],allData[pivot2_index],data_to_plot)\n",
    "\n",
    "    plt.scatter(xs, ys, c=\"blue\")\n",
    "\n",
    "    ipd = euclid_scalar( allData[pivot1_index], allData[pivot2_index] )\n",
    "\n",
    "    pivot1_x = [0]\n",
    "    pivot1_y = [0]\n",
    "\n",
    "    plt.scatter(pivot1_x, pivot1_y, c=\"red\")\n",
    "\n",
    "    pivot2_x = [ipd]\n",
    "    pivot2_y = [0]\n",
    "\n",
    "    plt.scatter(pivot2_x, pivot2_y, c=\"green\")\n",
    "\n",
    "    plt.show()\n",
    "\n"
   ]
  },
  {
   "cell_type": "code",
   "execution_count": 6,
   "metadata": {},
   "outputs": [
    {
     "ename": "NameError",
     "evalue": "name 'euclid_scalar' is not defined",
     "output_type": "error",
     "traceback": [
      "\u001b[0;31m---------------------------------------------------------------------------\u001b[0m",
      "\u001b[0;31mNameError\u001b[0m                                 Traceback (most recent call last)",
      "Cell \u001b[0;32mIn[6], line 3\u001b[0m\n\u001b[1;32m      1\u001b[0m data_to_plot \u001b[39m=\u001b[39m allData[\u001b[39m2\u001b[39m:\u001b[39m103\u001b[39m]\n\u001b[0;32m----> 3\u001b[0m show2Dscatter(\u001b[39m0\u001b[39;49m,\u001b[39m1\u001b[39;49m,data_to_plot)\n\u001b[1;32m      4\u001b[0m show2Dscatter(\u001b[39m1007\u001b[39m,\u001b[39m1444\u001b[39m,data_to_plot)\n\u001b[1;32m      5\u001b[0m show2Dscatter(\u001b[39m2050\u001b[39m,\u001b[39m1004\u001b[39m,data_to_plot)\n",
      "Cell \u001b[0;32mIn[5], line 8\u001b[0m, in \u001b[0;36mshow2Dscatter\u001b[0;34m(pivot1_index, pivot2_index, data_to_plot)\u001b[0m\n\u001b[1;32m      4\u001b[0m xs,ys \u001b[39m=\u001b[39m convertTo2D(allData[pivot1_index],allData[pivot2_index],data_to_plot)\n\u001b[1;32m      6\u001b[0m plt\u001b[39m.\u001b[39mscatter(xs, ys, c\u001b[39m=\u001b[39m\u001b[39m\"\u001b[39m\u001b[39mblue\u001b[39m\u001b[39m\"\u001b[39m)\n\u001b[0;32m----> 8\u001b[0m ipd \u001b[39m=\u001b[39m euclid_scalar( allData[pivot1_index], allData[pivot2_index] )\n\u001b[1;32m     10\u001b[0m pivot1_x \u001b[39m=\u001b[39m [\u001b[39m0\u001b[39m]\n\u001b[1;32m     11\u001b[0m pivot1_y \u001b[39m=\u001b[39m [\u001b[39m0\u001b[39m]\n",
      "\u001b[0;31mNameError\u001b[0m: name 'euclid_scalar' is not defined"
     ]
    },
    {
     "data": {
      "image/png": "[encoded data removed]",
      "text/plain": [
       "<Figure size 640x480 with 1 Axes>"
      ]
     },
     "metadata": {},
     "output_type": "display_data"
    }
   ],
   "source": [
    "data_to_plot = allData[2:103]\n",
    "\n",
    "show2Dscatter(0,1,data_to_plot)\n",
    "show2Dscatter(1007,1444,data_to_plot)\n",
    "show2Dscatter(2050,1004,data_to_plot)"
   ]
  }
 ],
 "metadata": {
  "kernelspec": {
   "display_name": "Python 3",
   "language": "python",
   "name": "python3"
  },
  "language_info": {
   "codemirror_mode": {
    "name": "ipython",
    "version": 3
   },
   "file_extension": ".py",
   "mimetype": "text/x-python",
   "name": "python",
   "nbconvert_exporter": "python",
   "pygments_lexer": "ipython3",
   "version": "3.11.1"
  },
  "orig_nbformat": 4
 },
 "nbformat": 4,
 "nbformat_minor": 2
}
