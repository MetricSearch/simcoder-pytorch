{
 "cells": [
  {
   "cell_type": "markdown",
   "source": [
    "### Perfect Point\n",
    "\n",
    "This code runs the perfect point experiment"
   ],
   "metadata": {
    "collapsed": false
   }
  },
  {
   "cell_type": "code",
   "execution_count": null,
   "outputs": [],
   "source": [
    "# nasty import hack - this is a code smell, work out how to remove it\n",
    "import sys\n",
    "sys.path.append('../')\n",
    "\n",
    "import pandas as pd\n",
    "import numpy as np\n",
    "from simcoder.perfect_point_harness import run_experiment_perfect_point\n",
    "from simcoder.similarity import getDists\n",
    "from simcoder.count_cats import getBestCats\n",
    "from simcoder.count_cats import findHighlyCategorisedInDataset\n",
    "from scipy.spatial.distance import pdist, squareform\n",
    "\n",
    "from simcoder.count_cats import countNumberinCatGTThresh\n",
    "from simcoder.count_cats import countNumberInResultsInCat\n"
   ],
   "metadata": {
    "collapsed": false
   }
  },
  {
   "cell_type": "code",
   "execution_count": null,
   "outputs": [],
   "source": [
    "from pathlib import Path\n",
    "from simcoder.similarity import load_mf_encodings\n",
    "\n",
    "# Load the data:\n",
    "\n",
    "data_root = Path(\"/Volumes/Data/\")\n",
    "\n",
    "data = load_mf_encodings(data_root / \"mf_resnet50\") # load resnet 50 encodings\n",
    "sm_data = load_mf_encodings(data_root / \"mf_softmax\") # load the softmax data\n"
   ],
   "metadata": {
    "collapsed": false
   }
  },
  {
   "cell_type": "code",
   "execution_count": 2,
   "outputs": [
    {
     "ename": "NameError",
     "evalue": "name 'run_experiment_perfect_point' is not defined",
     "output_type": "error",
     "traceback": [
      "\u001B[0;31m---------------------------------------------------------------------------\u001B[0m",
      "\u001B[0;31mNameError\u001B[0m                                 Traceback (most recent call last)",
      "Cell \u001B[0;32mIn[2], line 5\u001B[0m\n\u001B[1;32m      2\u001B[0m number_of_categories_to_test : \u001B[38;5;28mint\u001B[39m \u001B[38;5;241m=\u001B[39m \u001B[38;5;241m100\u001B[39m\n\u001B[1;32m      3\u001B[0m threshold \u001B[38;5;241m=\u001B[39m \u001B[38;5;241m0.99\u001B[39m\n\u001B[0;32m----> 5\u001B[0m pp_results : pd\u001B[38;5;241m.\u001B[39mDataFrame \u001B[38;5;241m=\u001B[39m \u001B[43mrun_experiment_perfect_point\u001B[49m(data, sm_data, number_of_categories_to_test, threshold, nn_at_which_k ) \u001B[38;5;66;03m# TODO check the nn later\u001B[39;00m\n\u001B[1;32m      7\u001B[0m top_categories \u001B[38;5;241m=\u001B[39m findHighlyCategorisedInDataset(sm_data,threshold)              \u001B[38;5;66;03m# get the top categories in the dataset\u001B[39;00m\n\u001B[1;32m      8\u001B[0m top_categories \u001B[38;5;241m=\u001B[39m top_categories[:number_of_categories_to_test]                  \u001B[38;5;66;03m# subset the top categories\u001B[39;00m\n",
      "\u001B[0;31mNameError\u001B[0m: name 'run_experiment_perfect_point' is not defined"
     ]
    }
   ],
   "source": [
    "nn_at_which_k : int = 100\n",
    "number_of_categories_to_test : int = 100\n",
    "threshold = 0.99\n",
    "\n",
    "pp_results : pd.DataFrame = run_experiment_perfect_point(data, sm_data, number_of_categories_to_test, threshold, nn_at_which_k ) # TODO check the nn later\n",
    "\n"
   ],
   "metadata": {
    "collapsed": false,
    "ExecuteTime": {
     "end_time": "2023-05-17T14:01:12.514761Z",
     "start_time": "2023-05-17T14:01:12.444537Z"
    }
   }
  },
  {
   "cell_type": "code",
   "execution_count": null,
   "outputs": [],
   "source": [],
   "metadata": {
    "collapsed": false
   }
  }
 ],
 "metadata": {
  "kernelspec": {
   "display_name": "Python 3",
   "language": "python",
   "name": "python3"
  },
  "language_info": {
   "codemirror_mode": {
    "name": "ipython",
    "version": 2
   },
   "file_extension": ".py",
   "mimetype": "text/x-python",
   "name": "python",
   "nbconvert_exporter": "python",
   "pygments_lexer": "ipython2",
   "version": "2.7.6"
  }
 },
 "nbformat": 4,
 "nbformat_minor": 0
}
